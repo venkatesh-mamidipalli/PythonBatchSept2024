{
 "cells": [
  {
   "cell_type": "markdown",
   "metadata": {},
   "source": [
    "\n",
    "Structural Pattern Matching\n",
    "- new in python 3.10\n",
    "- Syntax:\n",
    "    match <expression>:\n",
    "        case <pattern 1> [<if guard>]:\n",
    "            <handle pattern 1>\n",
    "        case <pattern n> [<if guard>]:\n",
    "            <handle pattern n>\n",
    "- It is much more than the traditional \"switch cases\", available in other languages"
   ]
  },
  {
   "cell_type": "code",
   "execution_count": null,
   "metadata": {
    "vscode": {
     "languageId": "plaintext"
    }
   },
   "outputs": [],
   "source": [
    "num1 = 123\n",
    "\n",
    "# Method 1 - using traditional if-else conditions\n",
    "if num1 >= 0:\n",
    "    print(f\"{num1} is positive\")\n",
    "else:\n",
    "    print(f\"{num1} is negative\")"
   ]
  },
  {
   "cell_type": "code",
   "execution_count": null,
   "metadata": {
    "vscode": {
     "languageId": "plaintext"
    }
   },
   "outputs": [],
   "source": [
    "# Method 2 - Using Structural pattern Matching\n",
    "\n",
    "match  num1 >= 0:\n",
    "    case True:\n",
    "        print(f\"{num1} is positive\")\n",
    "    case False:\n",
    "        print(f\"{num1} is negative\")"
   ]
  },
  {
   "cell_type": "code",
   "execution_count": null,
   "metadata": {
    "vscode": {
     "languageId": "plaintext"
    }
   },
   "outputs": [],
   "source": [
    "num2 = int(input(\"Enter some integer:\"))\n",
    "\n",
    "if num2 % 2 == 0:\n",
    "    print(f\"{num2} is EVEN number\")\n",
    "else:\n",
    "    print(f\"{num2} is ODD number\")"
   ]
  },
  {
   "cell_type": "code",
   "execution_count": null,
   "metadata": {
    "vscode": {
     "languageId": "plaintext"
    }
   },
   "outputs": [],
   "source": [
    "match num2 % 2 == 0:\n",
    "    case True:\n",
    "        print(f\"{num2} is EVEN number\")\n",
    "    case False:\n",
    "        print(f\"{num2} is ODD number\")"
   ]
  }
 ],
 "metadata": {
  "language_info": {
   "name": "python"
  }
 },
 "nbformat": 4,
 "nbformat_minor": 2
}
