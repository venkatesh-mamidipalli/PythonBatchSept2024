{
 "cells": [
  {
   "cell_type": "code",
   "execution_count": 1,
   "metadata": {},
   "outputs": [
    {
     "name": "stdout",
     "output_type": "stream",
     "text": [
      "\n",
      "\n"
     ]
    }
   ],
   "source": [
    "print(\"\" % ())          # OLD Style\n",
    "print(\"{}\".format(\"\"))  # New Style"
   ]
  },
  {
   "cell_type": "code",
   "execution_count": 2,
   "metadata": {},
   "outputs": [
    {
     "name": "stdout",
     "output_type": "stream",
     "text": [
      "cat and mouse\n",
      "213 and mouse\n",
      "213.0 and True\n",
      "None and True\n"
     ]
    }
   ],
   "source": [
    "print(\"{} and {}\".format(\"cat\", \"mouse\"))\n",
    "print(\"{} and {}\".format(213, \"mouse\"))\n",
    "print(\"{} and {}\".format(213.0, True))\n",
    "print(\"{} and {}\".format(None, True))"
   ]
  },
  {
   "cell_type": "code",
   "execution_count": 3,
   "metadata": {},
   "outputs": [
    {
     "name": "stdout",
     "output_type": "stream",
     "text": [
      "None and True\n",
      "None and True\n",
      "True and None\n"
     ]
    }
   ],
   "source": [
    "print(\"{} and {}\".format(None, True))\n",
    "print(\"{0} and {1}\".format(None, True))\n",
    "print(\"{1} and {0}\".format(None, True))"
   ]
  },
  {
   "cell_type": "code",
   "execution_count": 4,
   "metadata": {},
   "outputs": [
    {
     "name": "stdout",
     "output_type": "stream",
     "text": [
      "None and None\n"
     ]
    }
   ],
   "source": [
    "print(\"{0} and {0}\".format(None))"
   ]
  },
  {
   "cell_type": "code",
   "execution_count": 5,
   "metadata": {},
   "outputs": [
    {
     "name": "stdout",
     "output_type": "stream",
     "text": [
      "True and True\n"
     ]
    }
   ],
   "source": [
    "\n",
    "print(\"{1} and {1}\".format(None, True))"
   ]
  },
  {
   "cell_type": "code",
   "execution_count": 6,
   "metadata": {},
   "outputs": [
    {
     "name": "stdout",
     "output_type": "stream",
     "text": [
      "1234567890.88\n",
      "1234567890.88\n",
      "1,234,567,890.88\n",
      "1_234_567_890.88\n",
      "1234567890.88\n",
      "+1234567890.88\n",
      "-1234567890.88\n"
     ]
    }
   ],
   "source": [
    "print(\"{}\".format(1234567890.88))       # 1234567890.88\n",
    "print(\"{:}\".format(1234567890.88))      # 1234567890.88\n",
    "print(\"{:,}\".format(1234567890.88))     # 1,234,567,890.88\n",
    "print(\"{:_}\".format(1234567890.88))     # 1_234_567_890.88\n",
    "print(\"{:-}\".format(1234567890.88))     # 1234567890.88\n",
    "print(\"{:+}\".format(1234567890.88))     # +1234567890.88\n",
    "print(\"{:+}\".format(-1234567890.88))    # -1234567890.88"
   ]
  },
  {
   "cell_type": "code",
   "execution_count": 7,
   "metadata": {},
   "outputs": [
    {
     "name": "stdout",
     "output_type": "stream",
     "text": [
      "     12348\n",
      "0000012348\n",
      "aaaaa12348\n"
     ]
    }
   ],
   "source": [
    "\n",
    "# similar to str.zfill()\n",
    "print(\"{:=10}\".format(12348))   #      12348\n",
    "print(\"{:0=10}\".format(12348))  # 0000012348\n",
    "print(\"{:a=10}\".format(12348))  # aaaaa12348"
   ]
  },
  {
   "cell_type": "code",
   "execution_count": 8,
   "metadata": {},
   "outputs": [
    {
     "name": "stdout",
     "output_type": "stream",
     "text": [
      "left aligned        \n",
      "       right aligned\n",
      "      centered      \n",
      "------centered------\n",
      "******centered******\n"
     ]
    }
   ],
   "source": [
    "# Alignment\n",
    "print(\"{:<20}\".format(\"left aligned\"))      # 'left aligned        '\n",
    "print(\"{:>20}\".format(\"right aligned\"))     # '       right aligned'\n",
    "print(\"{:^20}\".format(\"centered\"))          # '      centered      '\n",
    "# with fill character\n",
    "print(\"{:-^20}\".format(\"centered\"))  # '------centered------'\n",
    "print(\"{:*^20}\".format(\"centered\"))  # '******centered******'"
   ]
  },
  {
   "cell_type": "code",
   "execution_count": 9,
   "metadata": {},
   "outputs": [],
   "source": [
    "import math"
   ]
  },
  {
   "cell_type": "code",
   "execution_count": 10,
   "metadata": {},
   "outputs": [
    {
     "data": {
      "text/plain": [
       "3.141592653589793"
      ]
     },
     "execution_count": 10,
     "metadata": {},
     "output_type": "execute_result"
    }
   ],
   "source": [
    "math.pi"
   ]
  },
  {
   "cell_type": "code",
   "execution_count": 11,
   "metadata": {},
   "outputs": [
    {
     "name": "stdout",
     "output_type": "stream",
     "text": [
      "math.pi 3.141592653589793\n",
      "3.141592653589793\n",
      "3.141593\n",
      "3.141593\n",
      "3.14159\n"
     ]
    }
   ],
   "source": [
    "print(\"math.pi\", math.pi)    # 3.141592653589793\n",
    "print(\"{}\".format(math.pi))  # 3.141592653589793\n",
    "\n",
    "# print('{:d}'.format(math.pi))\n",
    "print(\"{:f}\".format(math.pi))  # 3.141593\n",
    "print(\"{:F}\".format(math.pi))  # 3.141593\n",
    "print(\"{:g}\".format(math.pi))  # 3.14159"
   ]
  },
  {
   "cell_type": "code",
   "execution_count": 12,
   "metadata": {},
   "outputs": [
    {
     "name": "stdout",
     "output_type": "stream",
     "text": [
      "Name:udhay Age:99 Salary:9999.9999\n"
     ]
    }
   ],
   "source": [
    "print(\"Name:{} Age:{} Salary:{}\".format(\"udhay\", 99, 9999.9999))"
   ]
  },
  {
   "cell_type": "code",
   "execution_count": 13,
   "metadata": {},
   "outputs": [
    {
     "name": "stdout",
     "output_type": "stream",
     "text": [
      "\n",
      "        Name  :udhay\n",
      "        Age   :99\n",
      "        Salary:9999.9999\n"
     ]
    }
   ],
   "source": [
    "print(\n",
    "    '''\n",
    "        Name  :{}\n",
    "        Age   :{}\n",
    "        Salary:{}'''.format(\n",
    "        \"udhay\", 99, 9999.9999\n",
    "    )\n",
    ")"
   ]
  },
  {
   "cell_type": "code",
   "execution_count": 14,
   "metadata": {},
   "outputs": [
    {
     "name": "stdout",
     "output_type": "stream",
     "text": [
      "\n",
      "        Name  :udhay\n",
      "        Age   :99\n",
      "        Salary:9999.9999\n"
     ]
    }
   ],
   "source": [
    "print(\n",
    "    \"\"\"\n",
    "        Name  :{0}\n",
    "        Age   :{1}\n",
    "        Salary:{2}\"\"\".format(\n",
    "        \"udhay\", 99, 9999.9999\n",
    "    )\n",
    ")#      0         1     2"
   ]
  },
  {
   "cell_type": "code",
   "execution_count": 15,
   "metadata": {},
   "outputs": [
    {
     "name": "stdout",
     "output_type": "stream",
     "text": [
      "\n",
      "        Name  :udhay Name  :udhay Salary:9999.9999\n",
      "        Age   :99 Name  :udhay\n",
      "        Salary:9999.9999\n"
     ]
    }
   ],
   "source": [
    "print(\n",
    "    \"\"\"\n",
    "        Name  :{0} Name  :{0} Salary:{2}\n",
    "        Age   :{1} Name  :{0}\n",
    "        Salary:{2}\"\"\".format(\n",
    "        \"udhay\", 99, 9999.9999\n",
    "    )\n",
    ")\n",
    "#                               0      1     2"
   ]
  },
  {
   "cell_type": "code",
   "execution_count": 16,
   "metadata": {},
   "outputs": [
    {
     "name": "stdout",
     "output_type": "stream",
     "text": [
      "\n",
      "        Name  :99 Name  :99 Salary:99\n",
      "        Age   :99 Name  :99\n",
      "        Salary:99\n"
     ]
    }
   ],
   "source": [
    "print(\n",
    "    \"\"\"\n",
    "        Name  :{1} Name  :{1} Salary:{1}\n",
    "        Age   :{1} Name  :{1}\n",
    "        Salary:{1}\"\"\".format(\n",
    "        \"udhay\", 99, 9999.9999\n",
    "    )\n",
    ")\n",
    "#       0      1     2"
   ]
  },
  {
   "cell_type": "code",
   "execution_count": 17,
   "metadata": {},
   "outputs": [
    {
     "name": "stdout",
     "output_type": "stream",
     "text": [
      "\n",
      "        Name  :udhay Name  :udhay Salary:9999.9999\n",
      "        Age   :99 Name  :udhay\n",
      "        Salary:9999.9999\n"
     ]
    }
   ],
   "source": [
    "print(\n",
    "    \"\"\"\n",
    "        Name  :{NAME} Name  :{NAME} Salary:{SALARY}\n",
    "        Age   :{AGE} Name  :{NAME}\n",
    "        Salary:{SALARY}\"\"\".format(\n",
    "        NAME=\"udhay\", AGE=99, SALARY=9999.9999\n",
    "    )\n",
    ")"
   ]
  },
  {
   "cell_type": "code",
   "execution_count": 18,
   "metadata": {},
   "outputs": [
    {
     "ename": "NameError",
     "evalue": "name 'NAME' is not defined",
     "output_type": "error",
     "traceback": [
      "\u001b[0;31m---------------------------------------------------------------------------\u001b[0m",
      "\u001b[0;31mNameError\u001b[0m                                 Traceback (most recent call last)",
      "Cell \u001b[0;32mIn[18], line 1\u001b[0m\n\u001b[0;32m----> 1\u001b[0m \u001b[38;5;28mprint\u001b[39m(\u001b[43mNAME\u001b[49m) \u001b[38;5;66;03m# NameError: name 'NAME' is not defined\u001b[39;00m\n",
      "\u001b[0;31mNameError\u001b[0m: name 'NAME' is not defined"
     ]
    }
   ],
   "source": [
    "print(NAME) # NameError: name 'NAME' is not defined"
   ]
  },
  {
   "cell_type": "code",
   "execution_count": 20,
   "metadata": {},
   "outputs": [
    {
     "name": "stdout",
     "output_type": "stream",
     "text": [
      "\n",
      "        Dear Vijay Malya,\n",
      "                Your account ending with 1134 was\n",
      "                deducted 20.5 crores on 12th June 1947 12:34:45.\n",
      "\n",
      "        Thank you for shopping. Visit again!!!\n",
      "         \n"
     ]
    }
   ],
   "source": [
    "# Method 1\n",
    "print(\n",
    "    \"\"\"\n",
    "        Dear {customer},\n",
    "                Your account ending with {accound_last_4_digits} was\n",
    "                deducted {transaction_amount} on {transaction_time}.\n",
    "\n",
    "        Thank you for shopping. Visit again!!!\n",
    "         \"\"\".format(\n",
    "        customer=\"Vijay Malya\",\n",
    "        accound_last_4_digits=1134,\n",
    "        transaction_amount=\"20.5 crores\",\n",
    "        transaction_time=\"12th June 1947 12:34:45\",\n",
    "    )\n",
    ")"
   ]
  },
  {
   "cell_type": "code",
   "execution_count": 21,
   "metadata": {},
   "outputs": [
    {
     "name": "stdout",
     "output_type": "stream",
     "text": [
      "\n",
      "        Dear Vijay Malya,\n",
      "                Your account ending with 1134 was\n",
      "                deducted 20.5 crores on 12th June 1947 12:34:45.\n",
      "\n",
      "        Thank you for shopping. Visit again!\n",
      "         \n"
     ]
    }
   ],
   "source": [
    "# Method 2\n",
    "result = {\n",
    "    \"customer\": \"Vijay Malya\",\n",
    "    \"accound_last_4_digits\": 1134,\n",
    "    \"transaction_amount\": \"20.5 crores\",\n",
    "    \"transaction_time\": \"12th June 1947 12:34:45\",\n",
    "}\n",
    "\n",
    "print(\n",
    "    \"\"\"\n",
    "        Dear {customer},\n",
    "                Your account ending with {accound_last_4_digits} was\n",
    "                deducted {transaction_amount} on {transaction_time}.\n",
    "\n",
    "        Thank you for shopping. Visit again!\n",
    "         \"\"\".format(\n",
    "        **result  # dictionary unpacking\n",
    "    )\n",
    ")# mydict = {'a': 1, 'b': 2} => **mydict ==>  a =1, b=2"
   ]
  },
  {
   "cell_type": "code",
   "execution_count": 22,
   "metadata": {},
   "outputs": [
    {
     "name": "stdout",
     "output_type": "stream",
     "text": [
      "\n",
      "        Dear Vijay Malya,\n",
      "                Your account ending with 1134 was\n",
      "                deducted 20.5 crores on 12th June 1947 12:34:45.\n",
      "\n",
      "        Thank you for shopping. Visit again!\n",
      "         \n"
     ]
    }
   ],
   "source": [
    "# Method 3\n",
    "print(\n",
    "    \"\"\"\n",
    "        Dear {customer},\n",
    "                Your account ending with {accound_last_4_digits} was\n",
    "                deducted {transaction_amount} on {transaction_time}.\n",
    "\n",
    "        Thank you for shopping. Visit again!\n",
    "         \"\"\".format_map(\n",
    "        result\n",
    "    )\n",
    ")"
   ]
  }
 ],
 "metadata": {
  "kernelspec": {
   "display_name": "Python 3",
   "language": "python",
   "name": "python3"
  },
  "language_info": {
   "codemirror_mode": {
    "name": "ipython",
    "version": 3
   },
   "file_extension": ".py",
   "mimetype": "text/x-python",
   "name": "python",
   "nbconvert_exporter": "python",
   "pygments_lexer": "ipython3",
   "version": "3.12.1"
  }
 },
 "nbformat": 4,
 "nbformat_minor": 2
}
